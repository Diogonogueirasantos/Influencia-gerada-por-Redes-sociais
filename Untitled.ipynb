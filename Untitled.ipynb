{
 "cells": [
  {
   "cell_type": "code",
   "execution_count": 1,
   "id": "a26b5efe-f2f3-4fbf-8f9b-c48b32e553e3",
   "metadata": {},
   "outputs": [],
   "source": [
    "import pandas as pd \n",
    "import seaborn as sns"
   ]
  },
  {
   "cell_type": "code",
   "execution_count": 3,
   "id": "e709a95c-54ec-4e74-bac7-c9be590f7c7f",
   "metadata": {},
   "outputs": [],
   "source": [
    "df = pd.read_csv('dataset.csv')"
   ]
  },
  {
   "cell_type": "code",
   "execution_count": 4,
   "id": "aa1e60bc-43a5-45b8-96ba-cda1790fa779",
   "metadata": {},
   "outputs": [
    {
     "data": {
      "text/plain": [
       "(10780, 13)"
      ]
     },
     "execution_count": 4,
     "metadata": {},
     "output_type": "execute_result"
    }
   ],
   "source": [
    "df.shape"
   ]
  },
  {
   "cell_type": "code",
   "execution_count": 8,
   "id": "9e017bb7-abd3-4d92-bad0-82e254f84571",
   "metadata": {},
   "outputs": [
    {
     "data": {
      "text/plain": [
       "Age                                    0.0\n",
       "Gender                                 0.0\n",
       "Daily Social Media Usage(hours)        0.5\n",
       "Number of Social Media Platforms       0.0\n",
       "Frequency of Posts                     0.0\n",
       "Frequency of Checking Notifications    0.5\n",
       "Self Reported Addiction Score          0.5\n",
       "Cyberbullying Experience               0.0\n",
       "Self Esteem Score                      0.5\n",
       "Sleep Quality                          0.5\n",
       "Anxiety Score                          0.5\n",
       "Social Media Fatigue Score             0.0\n",
       "Mental Health Status                   0.0\n",
       "dtype: float64"
      ]
     },
     "execution_count": 8,
     "metadata": {},
     "output_type": "execute_result"
    }
   ],
   "source": [
    "df.isnull().mean().round(2) / 2 * 100"
   ]
  },
  {
   "cell_type": "code",
   "execution_count": 26,
   "id": "6f0d5b24-cb54-421d-bbab-8360fe4323eb",
   "metadata": {},
   "outputs": [
    {
     "data": {
      "text/html": [
       "<div>\n",
       "<style scoped>\n",
       "    .dataframe tbody tr th:only-of-type {\n",
       "        vertical-align: middle;\n",
       "    }\n",
       "\n",
       "    .dataframe tbody tr th {\n",
       "        vertical-align: top;\n",
       "    }\n",
       "\n",
       "    .dataframe thead th {\n",
       "        text-align: right;\n",
       "    }\n",
       "</style>\n",
       "<table border=\"1\" class=\"dataframe\">\n",
       "  <thead>\n",
       "    <tr style=\"text-align: right;\">\n",
       "      <th></th>\n",
       "      <th>idade</th>\n",
       "      <th>genero</th>\n",
       "      <th>tempo de uso em redes sociais</th>\n",
       "      <th>numero de plataformas usadas</th>\n",
       "      <th>frenquencia de posts</th>\n",
       "      <th>frequencia de verificacao de notificacoes</th>\n",
       "      <th>taxa de reconhecimento de dependencia</th>\n",
       "      <th>Cyberbullying Experience</th>\n",
       "      <th>taxa de autoestima reportada</th>\n",
       "      <th>qualidade de sono</th>\n",
       "      <th>taxa de ansiedade</th>\n",
       "      <th>fadiga gerada pelo uso de redes sociais</th>\n",
       "      <th>status de mental</th>\n",
       "    </tr>\n",
       "  </thead>\n",
       "  <tbody>\n",
       "    <tr>\n",
       "      <th>0</th>\n",
       "      <td>25</td>\n",
       "      <td>feminino</td>\n",
       "      <td>7.0</td>\n",
       "      <td>5</td>\n",
       "      <td>Raramente</td>\n",
       "      <td>Frequentimente</td>\n",
       "      <td>10.0</td>\n",
       "      <td>0</td>\n",
       "      <td>3.0</td>\n",
       "      <td>5.0</td>\n",
       "      <td>8.0</td>\n",
       "      <td>8</td>\n",
       "      <td>Ruim</td>\n",
       "    </tr>\n",
       "    <tr>\n",
       "      <th>1</th>\n",
       "      <td>50</td>\n",
       "      <td>feminino</td>\n",
       "      <td>2.0</td>\n",
       "      <td>4</td>\n",
       "      <td>Raramente</td>\n",
       "      <td>Frequentimente</td>\n",
       "      <td>6.0</td>\n",
       "      <td>1</td>\n",
       "      <td>9.0</td>\n",
       "      <td>8.0</td>\n",
       "      <td>4.0</td>\n",
       "      <td>4</td>\n",
       "      <td>Boa</td>\n",
       "    </tr>\n",
       "    <tr>\n",
       "      <th>2</th>\n",
       "      <td>35</td>\n",
       "      <td>feminino</td>\n",
       "      <td>4.0</td>\n",
       "      <td>2</td>\n",
       "      <td>Raramente</td>\n",
       "      <td>Frequentimente</td>\n",
       "      <td>9.0</td>\n",
       "      <td>0</td>\n",
       "      <td>6.0</td>\n",
       "      <td>6.0</td>\n",
       "      <td>5.0</td>\n",
       "      <td>8</td>\n",
       "      <td>Razoavel</td>\n",
       "    </tr>\n",
       "    <tr>\n",
       "      <th>3</th>\n",
       "      <td>30</td>\n",
       "      <td>feminino</td>\n",
       "      <td>2.0</td>\n",
       "      <td>2</td>\n",
       "      <td>Raramente</td>\n",
       "      <td>Raramente</td>\n",
       "      <td>7.0</td>\n",
       "      <td>0</td>\n",
       "      <td>7.0</td>\n",
       "      <td>7.0</td>\n",
       "      <td>3.0</td>\n",
       "      <td>3</td>\n",
       "      <td>Boa</td>\n",
       "    </tr>\n",
       "    <tr>\n",
       "      <th>4</th>\n",
       "      <td>22</td>\n",
       "      <td>feminino</td>\n",
       "      <td>2.0</td>\n",
       "      <td>3</td>\n",
       "      <td>Algumas vezes</td>\n",
       "      <td>Ocasionalmente</td>\n",
       "      <td>7.0</td>\n",
       "      <td>0</td>\n",
       "      <td>10.0</td>\n",
       "      <td>6.0</td>\n",
       "      <td>3.0</td>\n",
       "      <td>5</td>\n",
       "      <td>Boa</td>\n",
       "    </tr>\n",
       "  </tbody>\n",
       "</table>\n",
       "</div>"
      ],
      "text/plain": [
       "   idade    genero  tempo de uso em redes sociais  \\\n",
       "0     25  feminino                            7.0   \n",
       "1     50  feminino                            2.0   \n",
       "2     35  feminino                            4.0   \n",
       "3     30  feminino                            2.0   \n",
       "4     22  feminino                            2.0   \n",
       "\n",
       "   numero de plataformas usadas frenquencia de posts  \\\n",
       "0                             5            Raramente   \n",
       "1                             4            Raramente   \n",
       "2                             2            Raramente   \n",
       "3                             2            Raramente   \n",
       "4                             3        Algumas vezes   \n",
       "\n",
       "  frequencia de verificacao de notificacoes  \\\n",
       "0                            Frequentimente   \n",
       "1                            Frequentimente   \n",
       "2                            Frequentimente   \n",
       "3                                 Raramente   \n",
       "4                            Ocasionalmente   \n",
       "\n",
       "   taxa de reconhecimento de dependencia  Cyberbullying Experience  \\\n",
       "0                                   10.0                         0   \n",
       "1                                    6.0                         1   \n",
       "2                                    9.0                         0   \n",
       "3                                    7.0                         0   \n",
       "4                                    7.0                         0   \n",
       "\n",
       "   taxa de autoestima reportada  qualidade de sono  taxa de ansiedade  \\\n",
       "0                           3.0                5.0                8.0   \n",
       "1                           9.0                8.0                4.0   \n",
       "2                           6.0                6.0                5.0   \n",
       "3                           7.0                7.0                3.0   \n",
       "4                          10.0                6.0                3.0   \n",
       "\n",
       "   fadiga gerada pelo uso de redes sociais status de mental  \n",
       "0                                        8             Ruim  \n",
       "1                                        4              Boa  \n",
       "2                                        8         Razoavel  \n",
       "3                                        3              Boa  \n",
       "4                                        5              Boa  "
      ]
     },
     "execution_count": 26,
     "metadata": {},
     "output_type": "execute_result"
    }
   ],
   "source": [
    "# tradução dos rótulos e seus respectivos valores\n",
    "df.head()"
   ]
  },
  {
   "cell_type": "code",
   "execution_count": 11,
   "id": "ba897590-a8bd-4c80-832b-500d22fcf128",
   "metadata": {},
   "outputs": [],
   "source": [
    "df = df.rename(columns={'Age':'idade', 'Gender':'genero', 'Daily Social Media Usage(hours)':'tempo de uso em redes sociais', 'Number of Social Media Platforms':'numero de plataformas usadas',\n",
    "                   'Frequency of Posts':'frenquencia de posts', 'Frequency of Checking Notifications':'frequencia de verificacao de notificacoes', 'Self Reported Addiction Score':'taxa de reconhecimento de dependencia',\n",
    "                   'Cyberbullying Score':'experiencia por cyberbullying', 'Self Esteem Score':'taxa de autoestima reportada', 'Sleep Quality':'qualidade de sono', 'Anxiety Score':'taxa de ansiedade',\n",
    "                   'Social Media Fatigue Score':'fadiga gerada pelo uso de redes sociais', 'Mental Health Status':'status de mental'})"
   ]
  },
  {
   "cell_type": "code",
   "execution_count": 13,
   "id": "421ccfa2-ac5f-4226-9851-9ed5e9b454d6",
   "metadata": {},
   "outputs": [],
   "source": [
    "df['genero'] = df['genero'].replace({'Female':'feminino', 'Male':'masculino'})"
   ]
  },
  {
   "cell_type": "code",
   "execution_count": 18,
   "id": "9437161b-ae5c-4f4a-bf32-f15a82ca9fbb",
   "metadata": {},
   "outputs": [],
   "source": [
    "df['frenquencia de posts'] = df['frenquencia de posts'].replace({'Rarely':'Raramente', 'Sometimes':'Algumas vezes', 'Never':'Nunca',\n",
    "                                                                 'Always':'Sempre', 'Often':'Geralmente'})"
   ]
  },
  {
   "cell_type": "code",
   "execution_count": 20,
   "id": "d0b72d57-ac84-4fe0-8fa9-cb5743c5da15",
   "metadata": {},
   "outputs": [],
   "source": [
    "df['frequencia de verificacao de notificacoes'] = df['frequencia de verificacao de notificacoes'].replace({'Frequently':'Frequentimente', 'Occasionally':'Ocasionalmente',\n",
    "                                                                                                           'Rarely':'Raramente'})"
   ]
  },
  {
   "cell_type": "code",
   "execution_count": 22,
   "id": "3f8508bb-691f-4a79-8efb-ec2ba75026ce",
   "metadata": {},
   "outputs": [],
   "source": [
    "df['status de mental'] = df['status de mental'].replace({'Poor':'Ruim', 'Fair':'Razoavel', 'Excelent':'Excelente', 'Good':'Boa'})"
   ]
  },
  {
   "cell_type": "code",
   "execution_count": 23,
   "id": "0a66e274-46e2-4378-a2fa-d01e5971c9ef",
   "metadata": {},
   "outputs": [
    {
     "data": {
      "text/html": [
       "<div>\n",
       "<style scoped>\n",
       "    .dataframe tbody tr th:only-of-type {\n",
       "        vertical-align: middle;\n",
       "    }\n",
       "\n",
       "    .dataframe tbody tr th {\n",
       "        vertical-align: top;\n",
       "    }\n",
       "\n",
       "    .dataframe thead th {\n",
       "        text-align: right;\n",
       "    }\n",
       "</style>\n",
       "<table border=\"1\" class=\"dataframe\">\n",
       "  <thead>\n",
       "    <tr style=\"text-align: right;\">\n",
       "      <th></th>\n",
       "      <th>idade</th>\n",
       "      <th>genero</th>\n",
       "      <th>tempo de uso em redes sociais</th>\n",
       "      <th>numero de plataformas usadas</th>\n",
       "      <th>frenquencia de posts</th>\n",
       "      <th>frequencia de verificacao de notificacoes</th>\n",
       "      <th>taxa de reconhecimento de dependencia</th>\n",
       "      <th>Cyberbullying Experience</th>\n",
       "      <th>taxa de autoestima reportada</th>\n",
       "      <th>qualidade de sono</th>\n",
       "      <th>taxa de ansiedade</th>\n",
       "      <th>fadiga gerada pelo uso de redes sociais</th>\n",
       "      <th>status de mental</th>\n",
       "    </tr>\n",
       "  </thead>\n",
       "  <tbody>\n",
       "    <tr>\n",
       "      <th>0</th>\n",
       "      <td>25</td>\n",
       "      <td>feminino</td>\n",
       "      <td>7.0</td>\n",
       "      <td>5</td>\n",
       "      <td>Raramente</td>\n",
       "      <td>Frequentimente</td>\n",
       "      <td>10.0</td>\n",
       "      <td>0</td>\n",
       "      <td>3.0</td>\n",
       "      <td>5.0</td>\n",
       "      <td>8.0</td>\n",
       "      <td>8</td>\n",
       "      <td>Ruim</td>\n",
       "    </tr>\n",
       "    <tr>\n",
       "      <th>1</th>\n",
       "      <td>50</td>\n",
       "      <td>feminino</td>\n",
       "      <td>2.0</td>\n",
       "      <td>4</td>\n",
       "      <td>Raramente</td>\n",
       "      <td>Frequentimente</td>\n",
       "      <td>6.0</td>\n",
       "      <td>1</td>\n",
       "      <td>9.0</td>\n",
       "      <td>8.0</td>\n",
       "      <td>4.0</td>\n",
       "      <td>4</td>\n",
       "      <td>Boa</td>\n",
       "    </tr>\n",
       "    <tr>\n",
       "      <th>2</th>\n",
       "      <td>35</td>\n",
       "      <td>feminino</td>\n",
       "      <td>4.0</td>\n",
       "      <td>2</td>\n",
       "      <td>Raramente</td>\n",
       "      <td>Frequentimente</td>\n",
       "      <td>9.0</td>\n",
       "      <td>0</td>\n",
       "      <td>6.0</td>\n",
       "      <td>6.0</td>\n",
       "      <td>5.0</td>\n",
       "      <td>8</td>\n",
       "      <td>Razoavel</td>\n",
       "    </tr>\n",
       "    <tr>\n",
       "      <th>3</th>\n",
       "      <td>30</td>\n",
       "      <td>feminino</td>\n",
       "      <td>2.0</td>\n",
       "      <td>2</td>\n",
       "      <td>Raramente</td>\n",
       "      <td>Raramente</td>\n",
       "      <td>7.0</td>\n",
       "      <td>0</td>\n",
       "      <td>7.0</td>\n",
       "      <td>7.0</td>\n",
       "      <td>3.0</td>\n",
       "      <td>3</td>\n",
       "      <td>Boa</td>\n",
       "    </tr>\n",
       "    <tr>\n",
       "      <th>4</th>\n",
       "      <td>22</td>\n",
       "      <td>feminino</td>\n",
       "      <td>2.0</td>\n",
       "      <td>3</td>\n",
       "      <td>Algumas vezes</td>\n",
       "      <td>Ocasionalmente</td>\n",
       "      <td>7.0</td>\n",
       "      <td>0</td>\n",
       "      <td>10.0</td>\n",
       "      <td>6.0</td>\n",
       "      <td>3.0</td>\n",
       "      <td>5</td>\n",
       "      <td>Boa</td>\n",
       "    </tr>\n",
       "    <tr>\n",
       "      <th>5</th>\n",
       "      <td>22</td>\n",
       "      <td>masculino</td>\n",
       "      <td>6.0</td>\n",
       "      <td>3</td>\n",
       "      <td>Algumas vezes</td>\n",
       "      <td>Frequentimente</td>\n",
       "      <td>10.0</td>\n",
       "      <td>0</td>\n",
       "      <td>5.0</td>\n",
       "      <td>9.0</td>\n",
       "      <td>6.0</td>\n",
       "      <td>7</td>\n",
       "      <td>Razoavel</td>\n",
       "    </tr>\n",
       "    <tr>\n",
       "      <th>6</th>\n",
       "      <td>18</td>\n",
       "      <td>masculino</td>\n",
       "      <td>6.0</td>\n",
       "      <td>1</td>\n",
       "      <td>Algumas vezes</td>\n",
       "      <td>Raramente</td>\n",
       "      <td>10.0</td>\n",
       "      <td>0</td>\n",
       "      <td>4.0</td>\n",
       "      <td>4.0</td>\n",
       "      <td>6.0</td>\n",
       "      <td>4</td>\n",
       "      <td>Ruim</td>\n",
       "    </tr>\n",
       "    <tr>\n",
       "      <th>7</th>\n",
       "      <td>45</td>\n",
       "      <td>masculino</td>\n",
       "      <td>3.0</td>\n",
       "      <td>1</td>\n",
       "      <td>Nunca</td>\n",
       "      <td>Frequentimente</td>\n",
       "      <td>7.0</td>\n",
       "      <td>0</td>\n",
       "      <td>8.0</td>\n",
       "      <td>8.0</td>\n",
       "      <td>5.0</td>\n",
       "      <td>4</td>\n",
       "      <td>Boa</td>\n",
       "    </tr>\n",
       "    <tr>\n",
       "      <th>8</th>\n",
       "      <td>30</td>\n",
       "      <td>feminino</td>\n",
       "      <td>4.0</td>\n",
       "      <td>4</td>\n",
       "      <td>Sempre</td>\n",
       "      <td>Raramente</td>\n",
       "      <td>9.0</td>\n",
       "      <td>0</td>\n",
       "      <td>6.0</td>\n",
       "      <td>5.0</td>\n",
       "      <td>5.0</td>\n",
       "      <td>5</td>\n",
       "      <td>Razoavel</td>\n",
       "    </tr>\n",
       "    <tr>\n",
       "      <th>9</th>\n",
       "      <td>35</td>\n",
       "      <td>masculino</td>\n",
       "      <td>9.0</td>\n",
       "      <td>2</td>\n",
       "      <td>Algumas vezes</td>\n",
       "      <td>Frequentimente</td>\n",
       "      <td>10.0</td>\n",
       "      <td>0</td>\n",
       "      <td>1.0</td>\n",
       "      <td>6.0</td>\n",
       "      <td>7.0</td>\n",
       "      <td>9</td>\n",
       "      <td>Ruim</td>\n",
       "    </tr>\n",
       "  </tbody>\n",
       "</table>\n",
       "</div>"
      ],
      "text/plain": [
       "   idade     genero  tempo de uso em redes sociais  \\\n",
       "0     25   feminino                            7.0   \n",
       "1     50   feminino                            2.0   \n",
       "2     35   feminino                            4.0   \n",
       "3     30   feminino                            2.0   \n",
       "4     22   feminino                            2.0   \n",
       "5     22  masculino                            6.0   \n",
       "6     18  masculino                            6.0   \n",
       "7     45  masculino                            3.0   \n",
       "8     30   feminino                            4.0   \n",
       "9     35  masculino                            9.0   \n",
       "\n",
       "   numero de plataformas usadas frenquencia de posts  \\\n",
       "0                             5            Raramente   \n",
       "1                             4            Raramente   \n",
       "2                             2            Raramente   \n",
       "3                             2            Raramente   \n",
       "4                             3        Algumas vezes   \n",
       "5                             3        Algumas vezes   \n",
       "6                             1        Algumas vezes   \n",
       "7                             1                Nunca   \n",
       "8                             4               Sempre   \n",
       "9                             2        Algumas vezes   \n",
       "\n",
       "  frequencia de verificacao de notificacoes  \\\n",
       "0                            Frequentimente   \n",
       "1                            Frequentimente   \n",
       "2                            Frequentimente   \n",
       "3                                 Raramente   \n",
       "4                            Ocasionalmente   \n",
       "5                            Frequentimente   \n",
       "6                                 Raramente   \n",
       "7                            Frequentimente   \n",
       "8                                 Raramente   \n",
       "9                            Frequentimente   \n",
       "\n",
       "   taxa de reconhecimento de dependencia  Cyberbullying Experience  \\\n",
       "0                                   10.0                         0   \n",
       "1                                    6.0                         1   \n",
       "2                                    9.0                         0   \n",
       "3                                    7.0                         0   \n",
       "4                                    7.0                         0   \n",
       "5                                   10.0                         0   \n",
       "6                                   10.0                         0   \n",
       "7                                    7.0                         0   \n",
       "8                                    9.0                         0   \n",
       "9                                   10.0                         0   \n",
       "\n",
       "   taxa de autoestima reportada  qualidade de sono  taxa de ansiedade  \\\n",
       "0                           3.0                5.0                8.0   \n",
       "1                           9.0                8.0                4.0   \n",
       "2                           6.0                6.0                5.0   \n",
       "3                           7.0                7.0                3.0   \n",
       "4                          10.0                6.0                3.0   \n",
       "5                           5.0                9.0                6.0   \n",
       "6                           4.0                4.0                6.0   \n",
       "7                           8.0                8.0                5.0   \n",
       "8                           6.0                5.0                5.0   \n",
       "9                           1.0                6.0                7.0   \n",
       "\n",
       "   fadiga gerada pelo uso de redes sociais status de mental  \n",
       "0                                        8             Ruim  \n",
       "1                                        4              Boa  \n",
       "2                                        8         Razoavel  \n",
       "3                                        3              Boa  \n",
       "4                                        5              Boa  \n",
       "5                                        7         Razoavel  \n",
       "6                                        4             Ruim  \n",
       "7                                        4              Boa  \n",
       "8                                        5         Razoavel  \n",
       "9                                        9             Ruim  "
      ]
     },
     "execution_count": 23,
     "metadata": {},
     "output_type": "execute_result"
    }
   ],
   "source": [
    "df.head(10)"
   ]
  },
  {
   "cell_type": "code",
   "execution_count": 36,
   "id": "c8bf13a1-5632-4292-aef1-803012fb741f",
   "metadata": {},
   "outputs": [
    {
     "data": {
      "image/png": "[encoded data removed]",
      "text/plain": [
       "<Figure size 640x480 with 1 Axes>"
      ]
     },
     "metadata": {},
     "output_type": "display_data"
    }
   ],
   "source": [
    "sns.set_theme(style=\"ticks\", palette=\"pastel\")\n",
    "sns.boxplot(df, x=df['idade'], y=df['genero'], hue=df['genero'])\n",
    "sns.despine(offset=10, trim=True)"
   ]
  },
  {
   "cell_type": "code",
   "execution_count": 38,
   "id": "cfb39b67-57f9-4189-95b0-be7c10056853",
   "metadata": {},
   "outputs": [
    {
     "data": {
      "text/plain": [
       "5231"
      ]
     },
     "execution_count": 38,
     "metadata": {},
     "output_type": "execute_result"
    }
   ],
   "source": [
    "len(df.loc[df['genero'] == 'feminino'])"
   ]
  },
  {
   "cell_type": "code",
   "execution_count": 39,
   "id": "095b2e3e-5790-4d90-969d-235a6d89e949",
   "metadata": {},
   "outputs": [
    {
     "data": {
      "text/plain": [
       "10780"
      ]
     },
     "execution_count": 39,
     "metadata": {},
     "output_type": "execute_result"
    }
   ],
   "source": [
    "len(df['genero'] == 'masculino')"
   ]
  },
  {
   "cell_type": "code",
   "execution_count": 43,
   "id": "d9da5201-c74b-4ed9-97fd-5114f4ef20cc",
   "metadata": {},
   "outputs": [
    {
     "data": {
      "text/plain": [
       "10780"
      ]
     },
     "execution_count": 43,
     "metadata": {},
     "output_type": "execute_result"
    }
   ],
   "source": [
    "len(df['genero'] == 'Other')"
   ]
  },
  {
   "cell_type": "code",
   "execution_count": 45,
   "id": "a1be0c05-0876-4b40-b5da-b4b79782f5f9",
   "metadata": {},
   "outputs": [
    {
     "data": {
      "text/plain": [
       "(10780, 13)"
      ]
     },
     "execution_count": 45,
     "metadata": {},
     "output_type": "execute_result"
    }
   ],
   "source": [
    "df.shape"
   ]
  },
  {
   "cell_type": "code",
   "execution_count": null,
   "id": "ce4c26aa-ccd5-4b18-bc95-c1198030e694",
   "metadata": {},
   "outputs": [],
   "source": [
    "sns."
   ]
  }
 ],
 "metadata": {
  "kernelspec": {
   "display_name": "Python 3 (ipykernel)",
   "language": "python",
   "name": "python3"
  },
  "language_info": {
   "codemirror_mode": {
    "name": "ipython",
    "version": 3
   },
   "file_extension": ".py",
   "mimetype": "text/x-python",
   "name": "python",
   "nbconvert_exporter": "python",
   "pygments_lexer": "ipython3",
   "version": "3.13.5"
  }
 },
 "nbformat": 4,
 "nbformat_minor": 5
}
